{
 "cells": [
  {
   "cell_type": "code",
   "execution_count": 20,
   "metadata": {},
   "outputs": [],
   "source": [
    "# Import required libraries\n",
    "import pandas as pd\n",
    "import numpy as np\n",
    "from sklearn.model_selection import train_test_split, GridSearchCV\n",
    "from sklearn.feature_extraction.text import TfidfVectorizer\n",
    "from sklearn.ensemble import RandomForestClassifier\n",
    "from sklearn.linear_model import LogisticRegression\n",
    "from imblearn.over_sampling import SMOTE\n",
    "from sklearn.pipeline import Pipeline\n",
    "from sklearn.metrics import classification_report, confusion_matrix\n",
    "import nltk\n",
    "from nltk.corpus import stopwords\n",
    "from nltk.tokenize import word_tokenize\n",
    "from nltk.stem import WordNetLemmatizer\n",
    "import matplotlib.pyplot as plt\n",
    "import seaborn as sns\n",
    "from sklearn.metrics import confusion_matrix\n",
    "import re"
   ]
  },
  {
   "cell_type": "code",
   "execution_count": 21,
   "metadata": {},
   "outputs": [
    {
     "name": "stderr",
     "output_type": "stream",
     "text": [
      "[nltk_data] Downloading package punkt to C:\\Users\\Garuka\n",
      "[nltk_data]     Ranjana\\AppData\\Roaming\\nltk_data...\n",
      "[nltk_data]   Package punkt is already up-to-date!\n",
      "[nltk_data] Downloading package stopwords to C:\\Users\\Garuka\n",
      "[nltk_data]     Ranjana\\AppData\\Roaming\\nltk_data...\n",
      "[nltk_data]   Package stopwords is already up-to-date!\n",
      "[nltk_data] Downloading package wordnet to C:\\Users\\Garuka\n",
      "[nltk_data]     Ranjana\\AppData\\Roaming\\nltk_data...\n",
      "[nltk_data]   Package wordnet is already up-to-date!\n",
      "[nltk_data] Downloading package averaged_perceptron_tagger to\n",
      "[nltk_data]     C:\\Users\\Garuka Ranjana\\AppData\\Roaming\\nltk_data...\n",
      "[nltk_data]   Package averaged_perceptron_tagger is already up-to-\n",
      "[nltk_data]       date!\n"
     ]
    },
    {
     "data": {
      "text/plain": [
       "True"
      ]
     },
     "execution_count": 21,
     "metadata": {},
     "output_type": "execute_result"
    }
   ],
   "source": [
    "# Download required NLTK data\n",
    "nltk.download('punkt')\n",
    "nltk.download('stopwords')\n",
    "nltk.download('wordnet')\n",
    "nltk.download('averaged_perceptron_tagger')"
   ]
  },
  {
   "cell_type": "code",
   "execution_count": 22,
   "metadata": {},
   "outputs": [],
   "source": [
    "def preprocess_text(text):\n",
    "    \"\"\"Clean and preprocesess data by removing unwanted characters, tokenizing, removing stopwords, and lemmatizing.\"\"\"\n",
    "    if pd.isna(text):\n",
    "        return \"\"\n",
    "    lemmatizer = WordNetLemmatizer()\n",
    "    text = text.lower()\n",
    "    text = re.sub(r'http\\S+|www\\S+|https\\S+', '', text)  # Remove URLs\n",
    "    text = re.sub(r'\\S*@\\S*\\s?', '', text)  # Remove email addresses\n",
    "    text = re.sub(r'[^a-zA-Z!?\\']', ' ', text) # Remove special characters  \n",
    "    tokens = word_tokenize(text)\n",
    "    stop_words = set(stopwords.words('english'))\n",
    "    negative_words = {'no', 'not', 'never', \"n't\", 'neither', 'nor', 'none'}\n",
    "    stop_words -= negative_words  # Retain negative words for sentiment analysis\n",
    "    tokens = [lemmatizer.lemmatize(token)\n",
    "              for token in tokens if token not in stop_words]\n",
    "    return ' '.join(tokens)"
   ]
  },
  {
   "cell_type": "code",
   "execution_count": 23,
   "metadata": {},
   "outputs": [],
   "source": [
    "def create_sentiment_labels(rating):\n",
    "    \"\"\"Convert numerical ratings into sentiment labels (positive, neutral, negative).\"\"\"\n",
    "    if rating >= 4:\n",
    "        return 'positive'\n",
    "    elif rating == 3:\n",
    "        return 'neutral'\n",
    "    else:\n",
    "        return 'negative'"
   ]
  },
  {
   "cell_type": "code",
   "execution_count": 24,
   "metadata": {},
   "outputs": [],
   "source": [
    "def prepare_data(df):\n",
    "    \"\"\"Prepare data by handling missing values, creating sentiment labels, and processing text.\"\"\"\n",
    "    df = df.dropna(subset=['reviewText'])  # Drop rows with missing review texts\n",
    "    \n",
    "    # Assume missing ratings as neutral\n",
    "    df['overall'] = df['overall'].fillna(3)\n",
    "    df['sentiment'] = df['overall'].apply(create_sentiment_labels)\n",
    "    df['processed_text'] = df['reviewText'].apply(preprocess_text)\n",
    "    return df"
   ]
  },
  {
   "cell_type": "code",
   "execution_count": 26,
   "metadata": {},
   "outputs": [
    {
     "data": {
      "image/png": "[encoded data removed]",
      "text/plain": [
       "<Figure size 600x600 with 1 Axes>"
      ]
     },
     "metadata": {},
     "output_type": "display_data"
    }
   ],
   "source": [
    "df['sentiment'] = df['overall'].apply(create_sentiment_labels)\n",
    "\n",
    "# Sentiment distribution\n",
    "plt.figure(figsize=(6, 6))\n",
    "df['sentiment'].value_counts().plot(kind='pie', autopct='%1.1f%%',\n",
    "                                    colors=['cyan', 'red', 'lightgreen'])\n",
    "plt.title('Sentiment Distribution')\n",
    "plt.ylabel('')\n",
    "plt.show()"
   ]
  },
  {
   "cell_type": "code",
   "execution_count": 15,
   "metadata": {},
   "outputs": [],
   "source": [
    "def train_model(df):\n",
    "    \"\"\"Train sentiment classification model using TF-IDF and Logistic Regression with SMOTE.\"\"\"\n",
    "    df = prepare_data(df)\n",
    "    X = df['processed_text']\n",
    "    y = df['sentiment']\n",
    "\n",
    "    # Split data into training and testing sets\n",
    "    X_train, X_test, y_train, y_test = train_test_split(\n",
    "        X, y, test_size=0.2, stratify=y, random_state=42)\n",
    "\n",
    "    # Transform text data using TF-IDF\n",
    "    tfidf = TfidfVectorizer(max_features=15000, ngram_range=(\n",
    "        1, 3), min_df=2, max_df=0.9, sublinear_tf=True)\n",
    "    X_train_tfidf = tfidf.fit_transform(X_train)\n",
    "    X_test_tfidf = tfidf.transform(X_test)\n",
    "\n",
    "    # Balance dataset using SMOTE to handle class imbalance\n",
    "    smote = SMOTE(random_state=42)\n",
    "    X_train_resampled, y_train_resampled = smote.fit_resample(\n",
    "        X_train_tfidf, y_train)\n",
    "\n",
    "    # Define parameter grid for hyperparameter tuning\n",
    "    param_grid = {\n",
    "        'C': [0.01, 0.1, 1, 10]\n",
    "    }\n",
    "\n",
    "    # Train model using Logistic Regression with Grid Search\n",
    "    clf = GridSearchCV(LogisticRegression(class_weight='balanced',\n",
    "                       max_iter=200), param_grid, cv=5, scoring='f1_weighted', n_jobs=-1)\n",
    "    clf.fit(X_train_resampled, y_train_resampled)\n",
    "    best_model = clf.best_estimator_\n",
    "\n",
    "    # Make predictions on test data\n",
    "    y_pred = best_model.predict(X_test_tfidf)\n",
    "\n",
    "    # Print classification report and confusion matrix\n",
    "    print(\"\\nClassification Report:\")\n",
    "    print(classification_report(y_test, y_pred))\n",
    "\n",
    "    # Create a pipeline for text preprocessing and classification\n",
    "    pipeline = Pipeline([\n",
    "        ('tfidf', tfidf),\n",
    "        ('classifier', best_model)\n",
    "    ])\n",
    "\n",
    "    # Fit the pipeline on the full training data\n",
    "    pipeline.fit(X_train, y_train)\n",
    "    return pipeline, X_test, y_test, y_pred"
   ]
  },
  {
   "cell_type": "code",
   "execution_count": null,
   "metadata": {},
   "outputs": [],
   "source": [
    "# Load dataset\n",
    "df = pd.read_csv('dataset/amazon_reviews.csv')\n",
    "\n",
    "# Train model\n",
    "model, X_test, y_test, y_pred = train_model(df)"
   ]
  },
  {
   "cell_type": "code",
   "execution_count": null,
   "metadata": {},
   "outputs": [],
   "source": [
    "def predict_sentiment(model, new_reviews):\n",
    "    df_test = pd.DataFrame({'reviewText': new_reviews})\n",
    "    df_test['processed_text'] = df_test['reviewText'].apply(preprocess_text)\n",
    "    predictions = model.predict(df_test['processed_text'])\n",
    "\n",
    "    for review, sentiment in zip(new_reviews, predictions):\n",
    "        print(f\"Review: {review}\\nPredicted Sentiment: {sentiment}\\n\")"
   ]
  },
  {
   "cell_type": "code",
   "execution_count": null,
   "metadata": {},
   "outputs": [],
   "source": [
    "# Define test reviews\n",
    "test_reviews = [\n",
    "    \"This product is amazing! Works perfectly.\",\n",
    "    \"really bad product not recommend.\",\n",
    "    \"nothing special on this normal quality.\",\n",
    "    \"Great quality but a bit expensive.\",\n",
    "    \"Would recommend to anyone.\"\n",
    "]\n",
    "\n",
    "# Predict sentiment for test reviews\n",
    "predict_sentiment(model, test_reviews)"
   ]
  }
 ],
 "metadata": {
  "kernelspec": {
   "display_name": "venv",
   "language": "python",
   "name": "python3"
  },
  "language_info": {
   "codemirror_mode": {
    "name": "ipython",
    "version": 3
   },
   "file_extension": ".py",
   "mimetype": "text/x-python",
   "name": "python",
   "nbconvert_exporter": "python",
   "pygments_lexer": "ipython3",
   "version": "3.12.2"
  }
 },
 "nbformat": 4,
 "nbformat_minor": 2
}
